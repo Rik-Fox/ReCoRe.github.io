{
 "metadata": {
  "language_info": {
   "codemirror_mode": {
    "name": "ipython",
    "version": 3
   },
   "file_extension": ".py",
   "mimetype": "text/x-python",
   "name": "python",
   "nbconvert_exporter": "python",
   "pygments_lexer": "ipython3",
   "version": "3.8.5-final"
  },
  "orig_nbformat": 2,
  "kernelspec": {
   "name": "python38564bit6766ed279ca6438caa73300f0945ce7e",
   "display_name": "Python 3.8.5 64-bit"
  }
 },
 "nbformat": 4,
 "nbformat_minor": 2,
 "cells": [
  {
   "source": [
    "# DependDance\n",
    "\n",
    "At some point almost all of us will have performed the dependency dance. A majority of research code is not maintained, which implies that there will be no updates to the code to match with more prominent and maintained packages that do have periodic updates to improve functionality. This means that you will often need previous versions of these packages or even previous versions of your base coding language libraries.\n",
    "\n",
    "Hopefully in the future we will have more language specific information, but for now we start with some Python based examples. Python is a pretty ubiquitious open source language, I have no doubt that every reader has at least heard of it. Proprietory languages such as MATLAB are often less susceptable to the difficulties of dependency as the packages are more often than not pre packaged with the main language version, and even the few third party packages that are availible very rarely have to interact with each other. Python in particular has a vast vast vast number of packages and while most of those that are maintained will try to keep compatibility with other relevant packages this changes and morphs over time.\n",
    "\n",
    "### What we will cover here\n",
    "- how to find dependency requirements for some code you have found\n",
    "- pip installs\n",
    "- what dependancy information should be included with your code\n",
    "- how to provide it\n",
    "- what to do if there isn't any information on dependency\n",
    "- Pro tips and work arounds\n",
    "\n",
    "### What isn't covered here\n",
    "- virtual environments\n",
    "- Containerisation\n"
   ],
   "cell_type": "markdown",
   "metadata": {}
  },
  {
   "cell_type": "code",
   "execution_count": 6,
   "metadata": {},
   "outputs": [],
   "source": [
    "!pip install -r requirements.txt\n",
    "# probably need a cleaner pip requirements file, then speak about conda environments in seperate tutorial? "
   ]
  },
  {
   "cell_type": "code",
   "execution_count": null,
   "metadata": {},
   "outputs": [],
   "source": [
    "!pip freeze > requirements2.txt"
   ]
  },
  {
   "source": [
    "there made be modulised code written by a researcher, which can easily be installed by navigating to the source code directory that contains a setup.py file, run with the following command \n",
    "\n",
    "`pip install -e .`\n",
    "\n",
    "for further information on how this works please refer to the _packagingOwnCode_ tutorial"
   ],
   "cell_type": "markdown",
   "metadata": {}
  },
  {
   "source": [
    "## No formal information on source code dependancy?\n",
    "\n",
    "Unfortunately, the only thing to do here is to clone and try to run the desired code, then install as per error codes. Once you have a working environment, be sure to export better dependancy information! "
   ],
   "cell_type": "markdown",
   "metadata": {}
  },
  {
   "source": [
    "## Pro Tips and Workarounds\n",
    "- using pip in conda\n",
    "- slight edits to depreciated source code"
   ],
   "cell_type": "markdown",
   "metadata": {}
  },
  {
   "cell_type": "code",
   "execution_count": null,
   "metadata": {},
   "outputs": [],
   "source": []
  }
 ]
}